{
 "cells": [
  {
   "cell_type": "code",
   "execution_count": 1,
   "metadata": {},
   "outputs": [],
   "source": [
    "import os"
   ]
  },
  {
   "cell_type": "code",
   "execution_count": 2,
   "metadata": {},
   "outputs": [],
   "source": [
    "DATASETS_ROOT_DIRS = [dir_ for dir_ in os.listdir('./') if os.path.isdir(dir_)]"
   ]
  },
  {
   "cell_type": "code",
   "execution_count": 3,
   "metadata": {},
   "outputs": [
    {
     "name": "stdout",
     "output_type": "stream",
     "text": [
      "CINLID ['Idiom_NLI.txt']\n",
      "CINLID train: 82122 dev: 9125\n",
      "ChineseTextualInference ['image', 'lstm_train.py', 'model', '.idea', 'README.md', 'DataTranslate', 'translate_duba.py', 'data', '.git']\n",
      "ChineseTextualInference train: 378000 dev: 42000\n",
      "PAWS-X ['train.tsv', 'test.tsv', 'dev.tsv']\n",
      "PAWS-X train: 49401 dev: 2000\n",
      "PKU-Paraphrase-Bank ['LICENSE', 'paraphrase_unorder', 'README.md', '.git', 'paraphrase_unorder.zip']\n",
      "PKU-Paraphrase-Bank train: 458848 dev: 50984\n"
     ]
    }
   ],
   "source": [
    "for root_dir in DATASETS_ROOT_DIRS:\n",
    "    files = os.listdir(root_dir)\n",
    "    if any(['train.txt' in file or 'dev.txt' in file for file in files]): continue\n",
    "    print(root_dir, files)\n",
    "    train_lines, dev_lines = [], []\n",
    "    if root_dir == 'CINLID':\n",
    "        with open(f'{root_dir}/Idiom_NLI.txt', 'r', encoding=\"UTF-8\") as f:\n",
    "            all_lines = f.readlines()\n",
    "            for idx, line in enumerate(all_lines):\n",
    "                if idx % 10 == 0:\n",
    "                    dev_lines.append(line)\n",
    "                else:\n",
    "                    train_lines.append(line)\n",
    "        with open(f'{root_dir}/train.txt', 'w', encoding='UTF-8') as f:\n",
    "            f.writelines(train_lines)\n",
    "        with open(f'{root_dir}/dev.txt', 'w', encoding='UTF-8') as f:\n",
    "            f.writelines(dev_lines)\n",
    "        print(root_dir, 'train:', len(train_lines), 'dev:', len(dev_lines))\n",
    "    elif root_dir == 'PKU-Paraphrase-Bank':\n",
    "        with open(f'{root_dir}/paraphrase_unorder', 'r', encoding=\"UTF-8\") as f:\n",
    "            all_lines = f.readlines()\n",
    "            for idx, line in enumerate(all_lines):\n",
    "                if idx % 10 == 0:\n",
    "                    dev_lines.append(line)\n",
    "                else:\n",
    "                    train_lines.append(line)\n",
    "        with open(f'{root_dir}/train.txt', 'w', encoding='UTF-8') as f:\n",
    "            f.writelines(train_lines)\n",
    "        with open(f'{root_dir}/dev.txt', 'w', encoding='UTF-8') as f:\n",
    "            f.writelines(dev_lines)\n",
    "        print(root_dir, 'train:', len(train_lines), 'dev:', len(dev_lines))\n",
    "    elif root_dir == 'ChineseTextualInference':\n",
    "        with open(f'{root_dir}/data/train.txt', 'r', encoding=\"UTF-8\") as f:\n",
    "            all_lines = f.readlines()\n",
    "            for idx, line in enumerate(all_lines):\n",
    "                if idx % 10 == 0:\n",
    "                    dev_lines.append(line)\n",
    "                else:\n",
    "                    train_lines.append(line)\n",
    "        with open(f'{root_dir}/train.txt', 'w', encoding='UTF-8') as f:\n",
    "            f.writelines(train_lines)\n",
    "        with open(f'{root_dir}/dev.txt', 'w', encoding='UTF-8') as f:\n",
    "            f.writelines(dev_lines)\n",
    "        print(root_dir, 'train:', len(train_lines), 'dev:', len(dev_lines))\n",
    "    elif root_dir == 'PAWS-X':\n",
    "        with open(f'{root_dir}/train.tsv', 'r', encoding=\"UTF-8\") as f:\n",
    "            all_lines = f.readlines()\n",
    "            for idx, line in enumerate(all_lines[1:]):\n",
    "                line = '\\t'.join(line.split('\\t')[1:])\n",
    "                train_lines.append(line)\n",
    "        with open(f'{root_dir}/train.txt', 'w', encoding='UTF-8') as f:\n",
    "            f.writelines(train_lines)\n",
    "        with open(f'{root_dir}/dev.tsv', 'r', encoding=\"UTF-8\") as f:\n",
    "            all_lines = f.readlines()\n",
    "            for idx, line in enumerate(all_lines[1:]):\n",
    "                line = '\\t'.join(line.split('\\t')[1:])\n",
    "                dev_lines.append(line)\n",
    "        with open(f'{root_dir}/dev.txt', 'w', encoding='UTF-8') as f:\n",
    "            f.writelines(dev_lines)\n",
    "        print(root_dir, 'train:', len(train_lines), 'dev:', len(dev_lines))"
   ]
  },
  {
   "cell_type": "code",
   "execution_count": null,
   "metadata": {},
   "outputs": [],
   "source": []
  }
 ],
 "metadata": {
  "kernelspec": {
   "display_name": "transformers",
   "language": "python",
   "name": "python3"
  },
  "language_info": {
   "codemirror_mode": {
    "name": "ipython",
    "version": 3
   },
   "file_extension": ".py",
   "mimetype": "text/x-python",
   "name": "python",
   "nbconvert_exporter": "python",
   "pygments_lexer": "ipython3",
   "version": "3.7.16"
  },
  "orig_nbformat": 4
 },
 "nbformat": 4,
 "nbformat_minor": 2
}
