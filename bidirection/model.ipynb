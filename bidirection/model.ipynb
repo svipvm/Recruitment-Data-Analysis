{
 "cells": [
  {
   "cell_type": "code",
   "execution_count": 14,
   "metadata": {},
   "outputs": [],
   "source": [
    "import pandas as pd\n",
    "import numpy as np\n",
    "import networkx as nx\n",
    "from networkx.algorithms import bipartite"
   ]
  },
  {
   "cell_type": "code",
   "execution_count": 15,
   "metadata": {},
   "outputs": [],
   "source": [
    "DEBUG = True\n",
    "\n",
    "MAIN_JOB_CSV_FILE = '../datasets/result3-1.csv'\n",
    "MAIN_HUNTER_CSV_FILE = '../datasets/result3-2.csv'\n",
    "\n",
    "job_frame = pd.read_csv(MAIN_JOB_CSV_FILE, encoding='GBK')\n",
    "hunter_frame = pd.read_csv(MAIN_HUNTER_CSV_FILE, encoding='GBK')"
   ]
  },
  {
   "cell_type": "code",
   "execution_count": 16,
   "metadata": {},
   "outputs": [
    {
     "data": {
      "text/html": [
       "<div>\n",
       "<style scoped>\n",
       "    .dataframe tbody tr th:only-of-type {\n",
       "        vertical-align: middle;\n",
       "    }\n",
       "\n",
       "    .dataframe tbody tr th {\n",
       "        vertical-align: top;\n",
       "    }\n",
       "\n",
       "    .dataframe thead th {\n",
       "        text-align: right;\n",
       "    }\n",
       "</style>\n",
       "<table border=\"1\" class=\"dataframe\">\n",
       "  <thead>\n",
       "    <tr style=\"text-align: right;\">\n",
       "      <th></th>\n",
       "      <th>招聘信息ID</th>\n",
       "      <th>求职者ID</th>\n",
       "      <th>岗位匹配度</th>\n",
       "    </tr>\n",
       "  </thead>\n",
       "  <tbody>\n",
       "    <tr>\n",
       "      <th>0</th>\n",
       "      <td>1482194903424434202</td>\n",
       "      <td>1462718849626537984</td>\n",
       "      <td>0.8</td>\n",
       "    </tr>\n",
       "  </tbody>\n",
       "</table>\n",
       "</div>"
      ],
      "text/plain": [
       "                招聘信息ID                求职者ID  岗位匹配度\n",
       "0  1482194903424434202  1462718849626537984    0.8"
      ]
     },
     "execution_count": 16,
     "metadata": {},
     "output_type": "execute_result"
    }
   ],
   "source": [
    "job_frame.head(1)"
   ]
  },
  {
   "cell_type": "code",
   "execution_count": 17,
   "metadata": {},
   "outputs": [
    {
     "data": {
      "text/html": [
       "<div>\n",
       "<style scoped>\n",
       "    .dataframe tbody tr th:only-of-type {\n",
       "        vertical-align: middle;\n",
       "    }\n",
       "\n",
       "    .dataframe tbody tr th {\n",
       "        vertical-align: top;\n",
       "    }\n",
       "\n",
       "    .dataframe thead th {\n",
       "        text-align: right;\n",
       "    }\n",
       "</style>\n",
       "<table border=\"1\" class=\"dataframe\">\n",
       "  <thead>\n",
       "    <tr style=\"text-align: right;\">\n",
       "      <th></th>\n",
       "      <th>求职者ID</th>\n",
       "      <th>招聘信息ID</th>\n",
       "      <th>公司名称</th>\n",
       "      <th>求职者满意度</th>\n",
       "    </tr>\n",
       "  </thead>\n",
       "  <tbody>\n",
       "    <tr>\n",
       "      <th>0</th>\n",
       "      <td>1643227269948375040</td>\n",
       "      <td>1479021937257742336</td>\n",
       "      <td>长沙飞鱼互动网络科技有限公司</td>\n",
       "      <td>0.78</td>\n",
       "    </tr>\n",
       "  </tbody>\n",
       "</table>\n",
       "</div>"
      ],
      "text/plain": [
       "                 求职者ID               招聘信息ID            公司名称  求职者满意度\n",
       "0  1643227269948375040  1479021937257742336  长沙飞鱼互动网络科技有限公司    0.78"
      ]
     },
     "execution_count": 17,
     "metadata": {},
     "output_type": "execute_result"
    }
   ],
   "source": [
    "hunter_frame.head(1)"
   ]
  },
  {
   "cell_type": "code",
   "execution_count": 18,
   "metadata": {},
   "outputs": [
    {
     "data": {
      "text/plain": [
       "1560"
      ]
     },
     "execution_count": 18,
     "metadata": {},
     "output_type": "execute_result"
    }
   ],
   "source": [
    "job_ids = job_frame['招聘信息ID'].values.tolist() + hunter_frame['招聘信息ID'].values.tolist()\n",
    "job_ids = np.unique(job_ids)\n",
    "job_ids_map = {job_id: index for index, job_id in enumerate(job_ids)}\n",
    "len(job_ids_map)"
   ]
  },
  {
   "cell_type": "code",
   "execution_count": 19,
   "metadata": {},
   "outputs": [
    {
     "data": {
      "text/plain": [
       "84"
      ]
     },
     "execution_count": 19,
     "metadata": {},
     "output_type": "execute_result"
    }
   ],
   "source": [
    "hunter_ids = job_frame['求职者ID'].values.tolist() + hunter_frame['求职者ID'].values.tolist()\n",
    "hunter_ids = np.unique(hunter_ids)\n",
    "hunter_ids_map = {hutner_id: index for index, hutner_id in enumerate(hunter_ids)}\n",
    "len(hunter_ids_map)"
   ]
  },
  {
   "cell_type": "code",
   "execution_count": 20,
   "metadata": {},
   "outputs": [],
   "source": [
    "job_frame['招聘信息ID'] = job_frame['招聘信息ID'].map(job_ids_map)\n",
    "job_frame['求职者ID'] = job_frame['求职者ID'].map(hunter_ids_map)"
   ]
  },
  {
   "cell_type": "code",
   "execution_count": 21,
   "metadata": {},
   "outputs": [
    {
     "data": {
      "text/html": [
       "<div>\n",
       "<style scoped>\n",
       "    .dataframe tbody tr th:only-of-type {\n",
       "        vertical-align: middle;\n",
       "    }\n",
       "\n",
       "    .dataframe tbody tr th {\n",
       "        vertical-align: top;\n",
       "    }\n",
       "\n",
       "    .dataframe thead th {\n",
       "        text-align: right;\n",
       "    }\n",
       "</style>\n",
       "<table border=\"1\" class=\"dataframe\">\n",
       "  <thead>\n",
       "    <tr style=\"text-align: right;\">\n",
       "      <th></th>\n",
       "      <th>招聘信息ID</th>\n",
       "      <th>求职者ID</th>\n",
       "      <th>岗位匹配度</th>\n",
       "    </tr>\n",
       "  </thead>\n",
       "  <tbody>\n",
       "    <tr>\n",
       "      <th>0</th>\n",
       "      <td>850</td>\n",
       "      <td>7</td>\n",
       "      <td>0.8</td>\n",
       "    </tr>\n",
       "  </tbody>\n",
       "</table>\n",
       "</div>"
      ],
      "text/plain": [
       "   招聘信息ID  求职者ID  岗位匹配度\n",
       "0     850      7    0.8"
      ]
     },
     "execution_count": 21,
     "metadata": {},
     "output_type": "execute_result"
    }
   ],
   "source": [
    "job_frame.head(1)"
   ]
  },
  {
   "cell_type": "code",
   "execution_count": 22,
   "metadata": {},
   "outputs": [],
   "source": [
    "hunter_frame['求职者ID'] = hunter_frame['求职者ID'].map(hunter_ids_map)\n",
    "hunter_frame['招聘信息ID'] = hunter_frame['招聘信息ID'].map(job_ids_map)"
   ]
  },
  {
   "cell_type": "code",
   "execution_count": 23,
   "metadata": {},
   "outputs": [
    {
     "data": {
      "text/html": [
       "<div>\n",
       "<style scoped>\n",
       "    .dataframe tbody tr th:only-of-type {\n",
       "        vertical-align: middle;\n",
       "    }\n",
       "\n",
       "    .dataframe tbody tr th {\n",
       "        vertical-align: top;\n",
       "    }\n",
       "\n",
       "    .dataframe thead th {\n",
       "        text-align: right;\n",
       "    }\n",
       "</style>\n",
       "<table border=\"1\" class=\"dataframe\">\n",
       "  <thead>\n",
       "    <tr style=\"text-align: right;\">\n",
       "      <th></th>\n",
       "      <th>求职者ID</th>\n",
       "      <th>招聘信息ID</th>\n",
       "      <th>公司名称</th>\n",
       "      <th>求职者满意度</th>\n",
       "    </tr>\n",
       "  </thead>\n",
       "  <tbody>\n",
       "    <tr>\n",
       "      <th>0</th>\n",
       "      <td>82</td>\n",
       "      <td>78</td>\n",
       "      <td>长沙飞鱼互动网络科技有限公司</td>\n",
       "      <td>0.78</td>\n",
       "    </tr>\n",
       "  </tbody>\n",
       "</table>\n",
       "</div>"
      ],
      "text/plain": [
       "   求职者ID  招聘信息ID            公司名称  求职者满意度\n",
       "0     82      78  长沙飞鱼互动网络科技有限公司    0.78"
      ]
     },
     "execution_count": 23,
     "metadata": {},
     "output_type": "execute_result"
    }
   ],
   "source": [
    "hunter_frame.head(1)"
   ]
  },
  {
   "cell_type": "code",
   "execution_count": 24,
   "metadata": {},
   "outputs": [
    {
     "data": {
      "text/plain": [
       "1568"
      ]
     },
     "execution_count": 24,
     "metadata": {},
     "output_type": "execute_result"
    }
   ],
   "source": [
    "JOB_RECORD_CSV = '../datasets/result1-1.csv'\n",
    "\n",
    "job_record_frame = pd.read_csv(JOB_RECORD_CSV, encoding='GBK')\n",
    "# job_record_frame['招聘信息 ID'] = job_record_frame['招聘信息 ID'].map(job_ids_map)\n",
    "job_rec_count = {} # job_record_frame.loc[..., ['招聘信息 ID', '招募人数']]\n",
    "for idx, row in job_record_frame.iterrows():\n",
    "    job_rec_count[int(row['招聘信息ID'])] = row['招募人数']\n",
    "len(job_rec_count)"
   ]
  },
  {
   "cell_type": "code",
   "execution_count": 25,
   "metadata": {},
   "outputs": [
    {
     "data": {
      "text/plain": [
       "(1560, 84)"
      ]
     },
     "execution_count": 25,
     "metadata": {},
     "output_type": "execute_result"
    }
   ],
   "source": [
    "job_matrix = np.zeros((len(job_ids_map), len(hunter_ids_map)))\n",
    "\n",
    "for idx, row in job_frame.iterrows():\n",
    "    job_matrix[int(row['招聘信息ID'])][int(row['求职者ID'])] = row['岗位匹配度']\n",
    "\n",
    "job_matrix.shape"
   ]
  },
  {
   "cell_type": "code",
   "execution_count": 27,
   "metadata": {},
   "outputs": [
    {
     "data": {
      "text/plain": [
       "(84, 1560)"
      ]
     },
     "execution_count": 27,
     "metadata": {},
     "output_type": "execute_result"
    }
   ],
   "source": [
    "hunter_matrix = np.zeros((len(hunter_ids_map), len(job_ids_map)))\n",
    "\n",
    "for idx, row in hunter_frame.iterrows():\n",
    "    hunter_matrix[int(row['求职者ID'])][int(row['招聘信息ID'])] = row['求职者满意度']\n",
    "\n",
    "hunter_matrix.shape"
   ]
  },
  {
   "cell_type": "code",
   "execution_count": 28,
   "metadata": {},
   "outputs": [
    {
     "data": {
      "text/plain": [
       "(1560, 84)"
      ]
     },
     "execution_count": 28,
     "metadata": {},
     "output_type": "execute_result"
    }
   ],
   "source": [
    "data_matrix = job_matrix * hunter_matrix.T\n",
    "\n",
    "data_matrix.shape"
   ]
  },
  {
   "cell_type": "code",
   "execution_count": 29,
   "metadata": {},
   "outputs": [],
   "source": [
    "if DEBUG:\n",
    "    for i in range(len(job_ids_map)):\n",
    "        for j in range(len(hunter_ids_map)):\n",
    "            if data_matrix[i][j] < 1e-8: continue\n",
    "            job_id = job_ids[i]\n",
    "            hunter_id = hunter_ids[j]\n",
    "            # print(job_id, hunter_id, data_matrix[i][j])"
   ]
  },
  {
   "cell_type": "code",
   "execution_count": 30,
   "metadata": {},
   "outputs": [
    {
     "data": {
      "text/plain": [
       "True"
      ]
     },
     "execution_count": 30,
     "metadata": {},
     "output_type": "execute_result"
    }
   ],
   "source": [
    "edges = []\n",
    "\n",
    "# for i in range(len(job_ids)):\n",
    "#     capacity = job_rec_count[int(job_ids[i])]\n",
    "#     if capacity == 0: continue\n",
    "#     edges.append(('s', str(job_ids[i]), {'capacity': capacity, 'weight': 0}))\n",
    "\n",
    "mutil_job_ids = []\n",
    "for i in range(len(job_ids)):\n",
    "    capacity = job_rec_count[int(job_ids[i])]\n",
    "    for count in range(capacity):\n",
    "        mutil_job_ids.append(\"{}_{}\".format(job_ids[i], count))\n",
    "        for j in range(len(hunter_ids)):\n",
    "            if data_matrix[i][j] < 1e-8:\n",
    "                edges.append((mutil_job_ids[-1], hunter_ids[j], {'weight': 0}))    \n",
    "                # pass\n",
    "            else:\n",
    "                edges.append((mutil_job_ids[-1], hunter_ids[j], {'weight': -data_matrix[i][j]}))\n",
    "                    #  {'capacity': 1, 'weight': data_matrix[i][j]}))\n",
    "\n",
    "# for i in range(len(hunter_ids)):\n",
    "#     capacity = job_rec_count[int(job_ids[i])]\n",
    "#     if capacity == 0: continue\n",
    "#     edges.append((str(hunter_ids[i]), 't', {'capacity': 1, 'weight': 0}))\n",
    "            \n",
    "binet = nx.Graph()\n",
    "binet.add_nodes_from(mutil_job_ids, bipartite=0)\n",
    "binet.add_nodes_from(hunter_ids, bipartite=1)\n",
    "binet.add_edges_from(edges)\n",
    "\n",
    "nx.is_connected(binet)"
   ]
  },
  {
   "cell_type": "code",
   "execution_count": 31,
   "metadata": {},
   "outputs": [],
   "source": [
    "# nx.draw_networkx_edge_labels(binet, nx.spring_layout(binet))\n",
    "matched_result = nx.bipartite.minimum_weight_full_matching(binet)"
   ]
  },
  {
   "cell_type": "code",
   "execution_count": 32,
   "metadata": {},
   "outputs": [],
   "source": [
    "bidirections = {}\n",
    "for job_id, hunter_id in matched_result.items():\n",
    "    if not isinstance(job_id, str): continue\n",
    "    job_id = int(job_id.split('_')[0])\n",
    "    if job_id not in bidirections:\n",
    "        bidirections[job_id] = []\n",
    "    bidirections[job_id].append(hunter_id)"
   ]
  },
  {
   "cell_type": "code",
   "execution_count": 33,
   "metadata": {},
   "outputs": [],
   "source": [
    "bidirection_json = {\"招聘信息ID\": [], \"求职者ID\": [], \"岗位匹配度\": [], \"求职者满意度\": []}\n",
    "\n",
    "for job_id, hunter_ids in bidirections.items():\n",
    "    job_degree = job_ids_map[job_id]\n",
    "    for hunter_id in hunter_ids:\n",
    "        hunter_degree = hunter_ids_map[hunter_id]\n",
    "        job_info = job_frame[(job_frame['招聘信息ID'] == job_degree) & (job_frame['求职者ID'] == hunter_degree)]['岗位匹配度'].values.tolist()\n",
    "        hunter_info = hunter_frame[(hunter_frame['招聘信息ID'] == job_degree) & (hunter_frame['求职者ID'] == hunter_degree)]['求职者满意度'].values.tolist()\n",
    "        if (len(job_info) == 0 or len(hunter_info) == 0): continue\n",
    "        bidirection_json['招聘信息ID'].append('\\t' + str(job_id))\n",
    "        bidirection_json['求职者ID'].append('\\t' + str(hunter_id))\n",
    "        bidirection_json['岗位匹配度'].append(job_info[0])\n",
    "        bidirection_json['求职者满意度'].append(hunter_info[0])\n",
    "        "
   ]
  },
  {
   "cell_type": "code",
   "execution_count": 34,
   "metadata": {},
   "outputs": [],
   "source": [
    "bidirection_frame = pd.DataFrame(bidirection_json).sort_values(by=[\"招聘信息ID\", \"岗位匹配度\"], ascending=[True, False])\n",
    "bidirection_frame.to_csv('../datasets/result4.csv', index=False, encoding=\"GBK\", errors='ignore')"
   ]
  },
  {
   "cell_type": "code",
   "execution_count": null,
   "metadata": {},
   "outputs": [],
   "source": []
  }
 ],
 "metadata": {
  "kernelspec": {
   "display_name": "workspace",
   "language": "python",
   "name": "python3"
  },
  "language_info": {
   "codemirror_mode": {
    "name": "ipython",
    "version": 3
   },
   "file_extension": ".py",
   "mimetype": "text/x-python",
   "name": "python",
   "nbconvert_exporter": "python",
   "pygments_lexer": "ipython3",
   "version": "3.7.16"
  },
  "orig_nbformat": 4,
  "vscode": {
   "interpreter": {
    "hash": "460c7a90d7afaf0a46ca69da768664a2d4cee184414e8a7bf3a7efe3fec06ee9"
   }
  }
 },
 "nbformat": 4,
 "nbformat_minor": 2
}
