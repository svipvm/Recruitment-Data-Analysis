{
 "cells": [
  {
   "cell_type": "code",
   "execution_count": 1,
   "metadata": {},
   "outputs": [],
   "source": [
    "import pandas as pd\n",
    "import cpca"
   ]
  },
  {
   "cell_type": "code",
   "execution_count": 2,
   "metadata": {},
   "outputs": [],
   "source": [
    "read_csv_path = './recruitment-info.csv'\n",
    "save_csv_path = './result1-1.csv'\n",
    "\n",
    "frame_data = pd.read_csv(read_csv_path, encoding='GBK')"
   ]
  },
  {
   "cell_type": "code",
   "execution_count": 3,
   "metadata": {},
   "outputs": [
    {
     "data": {
      "text/html": [
       "<div>\n",
       "<style scoped>\n",
       "    .dataframe tbody tr th:only-of-type {\n",
       "        vertical-align: middle;\n",
       "    }\n",
       "\n",
       "    .dataframe tbody tr th {\n",
       "        vertical-align: top;\n",
       "    }\n",
       "\n",
       "    .dataframe thead th {\n",
       "        text-align: right;\n",
       "    }\n",
       "</style>\n",
       "<table border=\"1\" class=\"dataframe\">\n",
       "  <thead>\n",
       "    <tr style=\"text-align: right;\">\n",
       "      <th></th>\n",
       "      <th>job_id</th>\n",
       "      <th>company_full_name</th>\n",
       "      <th>company_short_name</th>\n",
       "      <th>position_name</th>\n",
       "      <th>job_min_wage</th>\n",
       "      <th>job_max_wage</th>\n",
       "      <th>job_wage_kind</th>\n",
       "      <th>require_kind</th>\n",
       "      <th>require_edu</th>\n",
       "      <th>require_exp</th>\n",
       "      <th>num_people</th>\n",
       "      <th>deadline</th>\n",
       "      <th>company_ind</th>\n",
       "      <th>position_keys</th>\n",
       "      <th>skill_keys</th>\n",
       "      <th>job_require</th>\n",
       "      <th>job_welfare</th>\n",
       "      <th>company_addr</th>\n",
       "    </tr>\n",
       "  </thead>\n",
       "  <tbody>\n",
       "    <tr>\n",
       "      <th>0</th>\n",
       "      <td>1631112859985510400</td>\n",
       "      <td>深圳市海柔创新科技有限公司</td>\n",
       "      <td>海柔创新科技</td>\n",
       "      <td>会计实习生</td>\n",
       "      <td>3500</td>\n",
       "      <td>7000</td>\n",
       "      <td>1</td>\n",
       "      <td>2</td>\n",
       "      <td>2</td>\n",
       "      <td>不限</td>\n",
       "      <td>2</td>\n",
       "      <td>2024-01-01 00:00</td>\n",
       "      <td>['电子商务', '互联网']</td>\n",
       "      <td>['互联网', '人工智能']</td>\n",
       "      <td>[]</td>\n",
       "      <td>1.深入了解区域项目，搭建项目概算模板；2.负责中小项目的项目概算工作；3.负责历史概算项目...</td>\n",
       "      <td>['餐饮补贴', '专业培训', '弹性工作']</td>\n",
       "      <td>广东省深圳市宝安区西乡街道南昌社区固戍二路99号(南昌第二工业区东区)</td>\n",
       "    </tr>\n",
       "    <tr>\n",
       "      <th>1</th>\n",
       "      <td>1631112859897430016</td>\n",
       "      <td>深圳市海柔创新科技有限公司</td>\n",
       "      <td>海柔创新科技</td>\n",
       "      <td>技术服务工程师</td>\n",
       "      <td>5000</td>\n",
       "      <td>10000</td>\n",
       "      <td>1</td>\n",
       "      <td>2</td>\n",
       "      <td>2</td>\n",
       "      <td>不限</td>\n",
       "      <td>5</td>\n",
       "      <td>2023-12-31 00:00</td>\n",
       "      <td>['电子商务', '互联网']</td>\n",
       "      <td>['互联网', '人工智能']</td>\n",
       "      <td>[]</td>\n",
       "      <td>工作职责1、负责客户项目交付后的运维工作，协助售后服务工程师支持客户现场业务操作，现场异常处...</td>\n",
       "      <td>['餐饮补贴', '专业培训', '弹性工作']</td>\n",
       "      <td>广东省深圳市宝安区西乡街道南昌社区固戍二路99号(南昌第二工业区东区)</td>\n",
       "    </tr>\n",
       "    <tr>\n",
       "      <th>2</th>\n",
       "      <td>1629824814967554048</td>\n",
       "      <td>广州太普软件科技有限公司</td>\n",
       "      <td>太普软件</td>\n",
       "      <td>大数据分析师（BI）</td>\n",
       "      <td>4500</td>\n",
       "      <td>7000</td>\n",
       "      <td>1</td>\n",
       "      <td>2</td>\n",
       "      <td>3</td>\n",
       "      <td>不限</td>\n",
       "      <td>1</td>\n",
       "      <td>2023-12-31 00:00</td>\n",
       "      <td>['互联网', '软件']</td>\n",
       "      <td>['互联网', '软件']</td>\n",
       "      <td>[]</td>\n",
       "      <td>岗位要求：(1)大学本科及以上学历，计算机、数学相关专业；(2)熟悉SQL、SAS、SPSS...</td>\n",
       "      <td>['餐饮补贴', '专业培训', '弹性工作']</td>\n",
       "      <td>广州市天河区高普路1023号1楼101室自编23号</td>\n",
       "    </tr>\n",
       "  </tbody>\n",
       "</table>\n",
       "</div>"
      ],
      "text/plain": [
       "                job_id company_full_name company_short_name position_name  \\\n",
       "0  1631112859985510400     深圳市海柔创新科技有限公司             海柔创新科技         会计实习生   \n",
       "1  1631112859897430016     深圳市海柔创新科技有限公司             海柔创新科技       技术服务工程师   \n",
       "2  1629824814967554048      广州太普软件科技有限公司               太普软件    大数据分析师（BI）   \n",
       "\n",
       "   job_min_wage  job_max_wage  job_wage_kind  require_kind  require_edu  \\\n",
       "0          3500          7000              1             2            2   \n",
       "1          5000         10000              1             2            2   \n",
       "2          4500          7000              1             2            3   \n",
       "\n",
       "  require_exp  num_people          deadline      company_ind    position_keys  \\\n",
       "0          不限           2  2024-01-01 00:00  ['电子商务', '互联网']  ['互联网', '人工智能']   \n",
       "1          不限           5  2023-12-31 00:00  ['电子商务', '互联网']  ['互联网', '人工智能']   \n",
       "2          不限           1  2023-12-31 00:00    ['互联网', '软件']    ['互联网', '软件']   \n",
       "\n",
       "  skill_keys                                        job_require  \\\n",
       "0         []  1.深入了解区域项目，搭建项目概算模板；2.负责中小项目的项目概算工作；3.负责历史概算项目...   \n",
       "1         []  工作职责1、负责客户项目交付后的运维工作，协助售后服务工程师支持客户现场业务操作，现场异常处...   \n",
       "2         []  岗位要求：(1)大学本科及以上学历，计算机、数学相关专业；(2)熟悉SQL、SAS、SPSS...   \n",
       "\n",
       "                job_welfare                         company_addr  \n",
       "0  ['餐饮补贴', '专业培训', '弹性工作']  广东省深圳市宝安区西乡街道南昌社区固戍二路99号(南昌第二工业区东区)  \n",
       "1  ['餐饮补贴', '专业培训', '弹性工作']  广东省深圳市宝安区西乡街道南昌社区固戍二路99号(南昌第二工业区东区)  \n",
       "2  ['餐饮补贴', '专业培训', '弹性工作']            广州市天河区高普路1023号1楼101室自编23号  "
      ]
     },
     "execution_count": 3,
     "metadata": {},
     "output_type": "execute_result"
    }
   ],
   "source": [
    "frame_data.head(3)"
   ]
  },
  {
   "cell_type": "code",
   "execution_count": 4,
   "metadata": {},
   "outputs": [
    {
     "name": "stdout",
     "output_type": "stream",
     "text": [
      "1 1631112859985510400\n",
      "2 1495652137043099648\n",
      "0 1374177686322286592\n"
     ]
    }
   ],
   "source": [
    "for job_wage_kind in frame_data['job_wage_kind'].unique():\n",
    "    print(job_wage_kind, frame_data[frame_data['job_wage_kind'] == job_wage_kind].iloc[0, 0])\n",
    "\n",
    "job_wage_kind_json = { 0: '年', 1: '月', 2: '日'}"
   ]
  },
  {
   "cell_type": "code",
   "execution_count": 5,
   "metadata": {},
   "outputs": [
    {
     "name": "stdout",
     "output_type": "stream",
     "text": [
      "2 1631112859985510400\n",
      "0 1613439889204969472\n"
     ]
    }
   ],
   "source": [
    "for require_kind in frame_data['require_kind'].unique():\n",
    "    print(require_kind, frame_data[frame_data['require_kind'] == require_kind].iloc[0, 0])\n",
    "\n",
    "require_kind_json = { 0: '实习', 1: None, 2: '全职'}"
   ]
  },
  {
   "cell_type": "code",
   "execution_count": 6,
   "metadata": {},
   "outputs": [
    {
     "name": "stdout",
     "output_type": "stream",
     "text": [
      "2 1631112859985510400\n",
      "3 1629824814967554048\n",
      "0 1613431494808829952\n",
      "5 1554023803397472256\n",
      "1 1541254101239726080\n",
      "4 1515899759372664832\n"
     ]
    }
   ],
   "source": [
    "for require_edu in frame_data['require_edu'].unique():\n",
    "    print(require_edu, frame_data[frame_data['require_edu'] == require_edu].iloc[0, 0])\n",
    "\n",
    "require_edu_json = { 0: '不限', 1: '技工', 2: '大专', 3: '本科', 4: '硕士', 5: '博士'}"
   ]
  },
  {
   "cell_type": "code",
   "execution_count": 7,
   "metadata": {},
   "outputs": [
    {
     "name": "stdout",
     "output_type": "stream",
     "text": [
      "广东省深圳市 广东省 深圳市\n",
      "广州市天河区 广东省 广州市\n",
      "广州大学城( 广东省 广州市\n",
      "湖北省武汉市 湖北省 武汉市\n",
      "四川省宜宾市 四川省 宜宾市\n"
     ]
    }
   ],
   "source": [
    "for company_addr in frame_data['company_addr'].unique()[:5]:\n",
    "    addr = cpca.transform([company_addr])\n",
    "    print(company_addr[:6], addr['省'][0], addr['市'][0])"
   ]
  },
  {
   "cell_type": "code",
   "execution_count": 8,
   "metadata": {},
   "outputs": [],
   "source": [
    "# for company_addr_code in frame_data['company_addr_code'].unique():\n",
    "#     print(company_addr_code, frame_data[frame_data['company_addr_code'] == company_addr_code].iloc[0, 0])"
   ]
  },
  {
   "cell_type": "code",
   "execution_count": 9,
   "metadata": {},
   "outputs": [
    {
     "name": "stdout",
     "output_type": "stream",
     "text": [
      "1568 1254\n"
     ]
    }
   ],
   "source": [
    "save_frame = {\"序号\": [], '招聘信息 ID': [], '企业名称': [], '企业类型': [], '招聘岗位': [], '薪资范围': [], '招募类型': [], \n",
    "              '期望学历': [], '工作年数': [], '招募人数': [], \"岗位类型\": [], \"技能需求\": [], \"公司地址\": [], \"工作福利\": []}\n",
    "\n",
    "TEST, RECORD, count = True, 5, 0\n",
    "size = frame_data.shape[0]\n",
    "\n",
    "for inx in range(size):\n",
    "    if TEST and inx % RECORD == 0: continue\n",
    "    item = frame_data.iloc[inx, :]\n",
    "    count += 1\n",
    "    save_frame['序号'].append(count)\n",
    "    save_frame['招聘信息 ID'].append('\\t' + str(item['job_id']))\n",
    "    save_frame['企业名称'].append(item['company_full_name'])\n",
    "    save_frame['企业类型'].append(item['company_ind'])\n",
    "    save_frame['招聘岗位'].append(item['position_name'])\n",
    "    wage_range = [item['job_min_wage'], item['job_max_wage']]\n",
    "    save_frame['薪资范围'].append([wage_range[0] // 12, wage_range[1] // 12] if item['job_wage_kind'] == 0 \\\n",
    "        else ([wage_range[0] * 30, wage_range[1] * 30] if item['job_wage_kind'] == 2 else wage_range))\n",
    "    save_frame['招募类型'].append(require_kind_json[item['require_kind']])\n",
    "    save_frame['期望学历'].append(require_edu_json[item['require_edu']])\n",
    "    save_frame['工作年数'].append('不限' if '不限' in item['require_exp'] else (\n",
    "        item['require_exp'] if '年' in item['require_exp'] else item['require_exp'] + '年'))\n",
    "    save_frame['招募人数'].append(item['num_people'])\n",
    "    save_frame['岗位类型'].append(item['position_keys'])\n",
    "    save_frame['技能需求'].append(item['skill_keys'])\n",
    "    addr1, addr2 = cpca.transform([item['company_addr']]), cpca.transform([item['company_full_name']])\n",
    "    province = addr1['省'][0] if addr1['省'][0] else (addr2['省'][0] if addr2['省'][0] else '')\n",
    "    city = addr1['市'][0] if addr1['市'][0] else (addr2['市'][0] if addr2['市'][0] else '')\n",
    "    save_frame['公司地址'].append((province + city).replace(\"市县\", '市'))\n",
    "    save_frame['工作福利'].append(item['job_welfare'])\n",
    "\n",
    "print(size, len(save_frame['序号']))\n",
    "# for key, value in save_frame.items():\n",
    "#     print(key, len(value))\n",
    "\n",
    "save_frame = pd.DataFrame(save_frame)\n",
    "save_frame.to_csv(save_csv_path, index=False, encoding=\"GBK\", errors='ignore')"
   ]
  },
  {
   "cell_type": "code",
   "execution_count": null,
   "metadata": {},
   "outputs": [],
   "source": []
  }
 ],
 "metadata": {
  "kernelspec": {
   "display_name": "workspace",
   "language": "python",
   "name": "python3"
  },
  "language_info": {
   "codemirror_mode": {
    "name": "ipython",
    "version": 3
   },
   "file_extension": ".py",
   "mimetype": "text/x-python",
   "name": "python",
   "nbconvert_exporter": "python",
   "pygments_lexer": "ipython3",
   "version": "3.7.12"
  },
  "orig_nbformat": 4
 },
 "nbformat": 4,
 "nbformat_minor": 2
}
