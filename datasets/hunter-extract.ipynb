{
 "cells": [
  {
   "cell_type": "code",
   "execution_count": 1,
   "metadata": {},
   "outputs": [],
   "source": [
    "import pandas as pd\n",
    "import cpca\n",
    "from datetime import datetime"
   ]
  },
  {
   "cell_type": "code",
   "execution_count": 2,
   "metadata": {},
   "outputs": [],
   "source": [
    "read_csv_path = './hunter-info.csv'\n",
    "save_csv_path = './result1-2.csv'\n",
    "\n",
    "frame_data = pd.read_csv(read_csv_path, encoding='GBK')"
   ]
  },
  {
   "cell_type": "code",
   "execution_count": 3,
   "metadata": {},
   "outputs": [
    {
     "data": {
      "text/html": [
       "<div>\n",
       "<style scoped>\n",
       "    .dataframe tbody tr th:only-of-type {\n",
       "        vertical-align: middle;\n",
       "    }\n",
       "\n",
       "    .dataframe tbody tr th {\n",
       "        vertical-align: top;\n",
       "    }\n",
       "\n",
       "    .dataframe thead th {\n",
       "        text-align: right;\n",
       "    }\n",
       "</style>\n",
       "<table border=\"1\" class=\"dataframe\">\n",
       "  <thead>\n",
       "    <tr style=\"text-align: right;\">\n",
       "      <th></th>\n",
       "      <th>hunter_id</th>\n",
       "      <th>hunter_name</th>\n",
       "      <th>hunter_sex</th>\n",
       "      <th>hunter_bthday</th>\n",
       "      <th>hunter_addr</th>\n",
       "      <th>hunter_exp</th>\n",
       "      <th>hunter_sociality</th>\n",
       "      <th>hunter_eval</th>\n",
       "      <th>exp_position</th>\n",
       "      <th>exp_min_wage</th>\n",
       "      <th>...</th>\n",
       "      <th>exp_report</th>\n",
       "      <th>resume_keys</th>\n",
       "      <th>job_exps</th>\n",
       "      <th>project_exps</th>\n",
       "      <th>competition_exps</th>\n",
       "      <th>education_exps</th>\n",
       "      <th>training_exps</th>\n",
       "      <th>skill_exps</th>\n",
       "      <th>language_exps</th>\n",
       "      <th>cert_exps</th>\n",
       "    </tr>\n",
       "  </thead>\n",
       "  <tbody>\n",
       "    <tr>\n",
       "      <th>0</th>\n",
       "      <td>1632947816114552832</td>\n",
       "      <td>梁先生</td>\n",
       "      <td>0.0</td>\n",
       "      <td>2001-05-31T16:00:00.000Z</td>\n",
       "      <td>广东省东莞市东莞</td>\n",
       "      <td>1年工作经验</td>\n",
       "      <td>LEAGUE_MEMBER</td>\n",
       "      <td>熟练操作python、爬虫、sql语句、excel和powerbi等软件</td>\n",
       "      <td>['数据分析师', '数据挖掘工程师', '机器学习工程师']</td>\n",
       "      <td>6000</td>\n",
       "      <td>...</td>\n",
       "      <td>随时到岗</td>\n",
       "      <td>[]</td>\n",
       "      <td>['广东泰迪智能科技有限公司[python数据分析实习生]:1.\\t数据库分析与数据储存：数...</td>\n",
       "      <td>['天猫用户流失率分析[成员]:对天猫用户的用户行为：浏览、购买、收藏、加购物车从时间维度上...</td>\n",
       "      <td>['泰迪杯[三等奖]:第四届泰迪杯数据分析技能赛', '其他[南方赛区一等奖]:全国财经大数...</td>\n",
       "      <td>['广东第二师范学院[本科]:统计学']</td>\n",
       "      <td>[]</td>\n",
       "      <td>['python编程软件[SKILLED]', 'excel[SKILLED]', 'pow...</td>\n",
       "      <td>['英语[GOOD]']</td>\n",
       "      <td>['驾驶证[其他]', 'CET4[其他]', 'Python技术应用工程师（高级）[工信部...</td>\n",
       "    </tr>\n",
       "    <tr>\n",
       "      <th>1</th>\n",
       "      <td>1632286586903330816</td>\n",
       "      <td>钟先生</td>\n",
       "      <td>0.0</td>\n",
       "      <td>1998-02-28T16:00:00.000Z</td>\n",
       "      <td>广东省广州市天河区</td>\n",
       "      <td>无经验</td>\n",
       "      <td>LEAGUE_MEMBER</td>\n",
       "      <td>本人是一名退伍军人,保留军人本色,为人平和,对待工作严谨,具备敏锐的观察力,对数字敏感,熟悉...</td>\n",
       "      <td>['数据分析师', '数据挖掘工程师', '机器学习工程师']</td>\n",
       "      <td>4000</td>\n",
       "      <td>...</td>\n",
       "      <td>随时到岗</td>\n",
       "      <td>[]</td>\n",
       "      <td>[]</td>\n",
       "      <td>[]</td>\n",
       "      <td>[]</td>\n",
       "      <td>[]</td>\n",
       "      <td>[]</td>\n",
       "      <td>[]</td>\n",
       "      <td>[]</td>\n",
       "      <td>[]</td>\n",
       "    </tr>\n",
       "    <tr>\n",
       "      <th>2</th>\n",
       "      <td>1579833809761861632</td>\n",
       "      <td>李先生</td>\n",
       "      <td>0.0</td>\n",
       "      <td>2000-05-29 00:00:00.0</td>\n",
       "      <td>广东省中山市中山</td>\n",
       "      <td>无经验</td>\n",
       "      <td>MASSES</td>\n",
       "      <td>担任过班干、技术部部长、项目负责人因此具有一定组织力，技术方面：荣获python编程国赛三等...</td>\n",
       "      <td>['数据分析师', '数据挖掘工程师']</td>\n",
       "      <td>4000</td>\n",
       "      <td>...</td>\n",
       "      <td>时间待议</td>\n",
       "      <td>['python', '数据分析', '机器学习', '深度学习']</td>\n",
       "      <td>['广东泰迪智能科技股份有限公司[助教]:人工智能方面的技术支持，包括软件安装、理论知识和课...</td>\n",
       "      <td>['银行客户忠诚度分析[数据分析]:1对客户数据进行预处理，并对字符型数据进行特征编码。2基...</td>\n",
       "      <td>['泰迪杯[一等奖]:第四届泰迪杯数据分析技能赛', '其他[铜牌]:“第七届中国国际“互联...</td>\n",
       "      <td>[]</td>\n",
       "      <td>[]</td>\n",
       "      <td>['python[MASTER]', '数据分析[SKILLED]', '数据建模（机器学习...</td>\n",
       "      <td>[]</td>\n",
       "      <td>['1+X中级数据分析师[其他]']</td>\n",
       "    </tr>\n",
       "  </tbody>\n",
       "</table>\n",
       "<p>3 rows × 24 columns</p>\n",
       "</div>"
      ],
      "text/plain": [
       "             hunter_id hunter_name  hunter_sex             hunter_bthday  \\\n",
       "0  1632947816114552832         梁先生         0.0  2001-05-31T16:00:00.000Z   \n",
       "1  1632286586903330816         钟先生         0.0  1998-02-28T16:00:00.000Z   \n",
       "2  1579833809761861632         李先生         0.0     2000-05-29 00:00:00.0   \n",
       "\n",
       "  hunter_addr hunter_exp hunter_sociality  \\\n",
       "0    广东省东莞市东莞     1年工作经验    LEAGUE_MEMBER   \n",
       "1   广东省广州市天河区        无经验    LEAGUE_MEMBER   \n",
       "2    广东省中山市中山        无经验           MASSES   \n",
       "\n",
       "                                         hunter_eval  \\\n",
       "0               熟练操作python、爬虫、sql语句、excel和powerbi等软件   \n",
       "1  本人是一名退伍军人,保留军人本色,为人平和,对待工作严谨,具备敏锐的观察力,对数字敏感,熟悉...   \n",
       "2  担任过班干、技术部部长、项目负责人因此具有一定组织力，技术方面：荣获python编程国赛三等...   \n",
       "\n",
       "                      exp_position  exp_min_wage  ...  exp_report  \\\n",
       "0  ['数据分析师', '数据挖掘工程师', '机器学习工程师']          6000  ...        随时到岗   \n",
       "1  ['数据分析师', '数据挖掘工程师', '机器学习工程师']          4000  ...        随时到岗   \n",
       "2             ['数据分析师', '数据挖掘工程师']          4000  ...        时间待议   \n",
       "\n",
       "                          resume_keys  \\\n",
       "0                                  []   \n",
       "1                                  []   \n",
       "2  ['python', '数据分析', '机器学习', '深度学习']   \n",
       "\n",
       "                                            job_exps  \\\n",
       "0  ['广东泰迪智能科技有限公司[python数据分析实习生]:1.\\t数据库分析与数据储存：数...   \n",
       "1                                                 []   \n",
       "2  ['广东泰迪智能科技股份有限公司[助教]:人工智能方面的技术支持，包括软件安装、理论知识和课...   \n",
       "\n",
       "                                        project_exps  \\\n",
       "0  ['天猫用户流失率分析[成员]:对天猫用户的用户行为：浏览、购买、收藏、加购物车从时间维度上...   \n",
       "1                                                 []   \n",
       "2  ['银行客户忠诚度分析[数据分析]:1对客户数据进行预处理，并对字符型数据进行特征编码。2基...   \n",
       "\n",
       "                                    competition_exps        education_exps  \\\n",
       "0  ['泰迪杯[三等奖]:第四届泰迪杯数据分析技能赛', '其他[南方赛区一等奖]:全国财经大数...  ['广东第二师范学院[本科]:统计学']   \n",
       "1                                                 []                    []   \n",
       "2  ['泰迪杯[一等奖]:第四届泰迪杯数据分析技能赛', '其他[铜牌]:“第七届中国国际“互联...                    []   \n",
       "\n",
       "  training_exps                                         skill_exps  \\\n",
       "0            []  ['python编程软件[SKILLED]', 'excel[SKILLED]', 'pow...   \n",
       "1            []                                                 []   \n",
       "2            []  ['python[MASTER]', '数据分析[SKILLED]', '数据建模（机器学习...   \n",
       "\n",
       "  language_exps                                          cert_exps  \n",
       "0  ['英语[GOOD]']  ['驾驶证[其他]', 'CET4[其他]', 'Python技术应用工程师（高级）[工信部...  \n",
       "1            []                                                 []  \n",
       "2            []                                 ['1+X中级数据分析师[其他]']  \n",
       "\n",
       "[3 rows x 24 columns]"
      ]
     },
     "execution_count": 3,
     "metadata": {},
     "output_type": "execute_result"
    }
   ],
   "source": [
    "frame_data.head(3)"
   ]
  },
  {
   "cell_type": "code",
   "execution_count": 4,
   "metadata": {},
   "outputs": [
    {
     "name": "stdout",
     "output_type": "stream",
     "text": [
      "0.0 1632947816114552832\n",
      "1.0 1630884821167374336\n"
     ]
    }
   ],
   "source": [
    "for hunter_sex in frame_data['hunter_sex'].unique():\n",
    "    if pd.isna(hunter_sex): continue\n",
    "    print(hunter_sex, frame_data[frame_data['hunter_sex'] == hunter_sex].iloc[0, 0])\n",
    "\n",
    "hunter_sex_kind_json = {0: '男', 1: '女'}"
   ]
  },
  {
   "cell_type": "code",
   "execution_count": 5,
   "metadata": {},
   "outputs": [
    {
     "name": "stdout",
     "output_type": "stream",
     "text": [
      "2.0 1632947816114552832\n",
      "0.0 1632286586903330816\n",
      "1.0 1484409030448381952\n"
     ]
    }
   ],
   "source": [
    "for exp_require_kind in frame_data['exp_require_kind'].unique():\n",
    "    if pd.isna(exp_require_kind): continue\n",
    "    print(exp_require_kind, frame_data[frame_data['exp_require_kind'] == exp_require_kind].iloc[0, 0])\n",
    "\n",
    "exp_require_json = {0: '实习', 1: '无', 2: '全职'}"
   ]
  },
  {
   "cell_type": "code",
   "execution_count": 6,
   "metadata": {},
   "outputs": [
    {
     "name": "stdout",
     "output_type": "stream",
     "text": [
      "LEAGUE_MEMBER 1632947816114552832\n",
      "MASSES 1579833809761861632\n",
      "PARTY_MEMBER 1627308899029876736\n",
      "PROBATIONARY_PARTY_MEMBER 1583024721031725056\n"
     ]
    }
   ],
   "source": [
    "for hunter_sociality in frame_data['hunter_sociality'].unique():\n",
    "    if pd.isna(hunter_sociality): continue\n",
    "    print(hunter_sociality, frame_data[frame_data['hunter_sociality'] == hunter_sociality].iloc[0, 0])\n",
    "\n",
    "require_kind_json = { 'MASSES': '群众', 'LEAGUE_MEMBER': '共青团员', 'PARTY_MEMBER': '党员', 'PROBATIONARY_PARTY_MEMBER': '预备党员'}"
   ]
  },
  {
   "cell_type": "code",
   "execution_count": 7,
   "metadata": {},
   "outputs": [
    {
     "name": "stdout",
     "output_type": "stream",
     "text": [
      "10863 8690\n"
     ]
    }
   ],
   "source": [
    "save_frame = {\"序号\": [], '求职者 ID': [], '姓名': [], '性别': [], '年龄': [], '出生地': [], '社会属性': [], '工作经验': [], \n",
    "              '期望岗位': [], '期望薪资': [], '期望类型': [], '期望城市': [], '期望行业': [], '预计到岗': [], '工作经历': [], \n",
    "              '项目经历': [], '竞赛经历': [], '教育经历': [], '培训经历': [], '技能类型': [], '语言类型': [], '证书类型': []}\n",
    "\n",
    "TEST, RECORD, count = True, 5, 0\n",
    "size = frame_data.shape[0]\n",
    "\n",
    "for inx in range(size):\n",
    "    if TEST and inx % RECORD == 0: continue\n",
    "    item = frame_data.iloc[inx, :]\n",
    "    count += 1\n",
    "    save_frame['序号'].append(count)\n",
    "    save_frame['求职者 ID'].append('\\t' + str(item['hunter_id']))\n",
    "    save_frame['姓名'].append(item['hunter_name'])\n",
    "    save_frame['性别'].append(hunter_sex_kind_json[item['hunter_sex']] if not pd.isna(item['hunter_sex']) else '')\n",
    "    try:\n",
    "        age = item['hunter_bthday'].replace('-', '/').replace('T', ' ').split(' ')[0]\n",
    "        begin_year = datetime.strptime(age, '%Y/%m/%d').year\n",
    "        end_year = datetime.now().year\n",
    "        age = end_year - begin_year\n",
    "    except:\n",
    "        age = ''\n",
    "    save_frame['年龄'].append(age)\n",
    "    try:\n",
    "        addr = cpca.transform([item['hunter_addr']])\n",
    "        addr = ''.join([addr['省'][0], addr['市'][0]]).replace('市县', '市')\n",
    "    except:\n",
    "        addr = ''\n",
    "    save_frame['出生地'].append(addr)\n",
    "    save_frame['社会属性'].append(require_kind_json[item['hunter_sociality']] if not pd.isna(item['hunter_sociality']) else '')\n",
    "    try:\n",
    "        work_year = '无' if '无经验' in item['hunter_exp'] else (\n",
    "            item['hunter_exp'].replace('工作经验', '') if '工作经验' in item['hunter_exp'] else item['hunter_exp'])\n",
    "    except:\n",
    "        work_year = ''\n",
    "    save_frame['工作经验'].append(work_year)\n",
    "    save_frame['期望岗位'].append(item['exp_position'])\n",
    "    save_frame['期望薪资'].append([item['exp_min_wage'], item['exp_max_wage']])\n",
    "    save_frame['期望类型'].append(exp_require_json[item['exp_require_kind']] if not pd.isna(item['exp_require_kind']) else '')\n",
    "    save_frame['期望城市'].append(item['exp_city'])\n",
    "    save_frame['期望行业'].append(item['exp_industry'])\n",
    "    save_frame['预计到岗'].append(item['exp_report'].replace('到岗', '') if not pd.isna(item['exp_report']) else '')\n",
    "    save_frame['工作经历'].append([exp.split(':')[0] for exp in eval(item['job_exps'])])\n",
    "    save_frame['项目经历'].append([exp.split(':')[0] for exp in eval(item['project_exps'])])\n",
    "    save_frame['竞赛经历'].append([exp.split(':')[0] for exp in eval(item['competition_exps'])])\n",
    "    save_frame['教育经历'].append([exp.split(':')[0] for exp in eval(item['education_exps'])])\n",
    "    save_frame['培训经历'].append(eval(item['training_exps']))\n",
    "    save_frame['技能类型'].append(eval(item['skill_exps']))\n",
    "    save_frame['语言类型'].append(eval(item['language_exps']))\n",
    "    save_frame['证书类型'].append(eval(item['cert_exps']))\n",
    "\n",
    "print(size, len(save_frame['序号']))\n",
    "# for key, value in save_frame.items():\n",
    "#     print(key, len(value))\n",
    "\n",
    "save_frame = pd.DataFrame(save_frame)\n",
    "save_frame.to_csv(save_csv_path, index=False, encoding=\"GBK\", errors='ignore')"
   ]
  },
  {
   "cell_type": "code",
   "execution_count": null,
   "metadata": {},
   "outputs": [],
   "source": []
  }
 ],
 "metadata": {
  "kernelspec": {
   "display_name": "workspace",
   "language": "python",
   "name": "python3"
  },
  "language_info": {
   "codemirror_mode": {
    "name": "ipython",
    "version": 3
   },
   "file_extension": ".py",
   "mimetype": "text/x-python",
   "name": "python",
   "nbconvert_exporter": "python",
   "pygments_lexer": "ipython3",
   "version": "3.7.0"
  },
  "orig_nbformat": 4
 },
 "nbformat": 4,
 "nbformat_minor": 2
}
