{
 "cells": [
  {
   "cell_type": "code",
   "execution_count": 1,
   "metadata": {},
   "outputs": [],
   "source": [
    "import pandas as pd\n",
    "import cpca, re\n",
    "from datetime import datetime"
   ]
  },
  {
   "cell_type": "code",
   "execution_count": 2,
   "metadata": {},
   "outputs": [],
   "source": [
    "read_csv_path = './hunter-info.csv'\n",
    "save_csv_path = './result1-2.csv'\n",
    "\n",
    "frame_data = pd.read_csv(read_csv_path, encoding='GBK')"
   ]
  },
  {
   "cell_type": "code",
   "execution_count": 3,
   "metadata": {},
   "outputs": [
    {
     "data": {
      "text/html": [
       "<div>\n",
       "<style scoped>\n",
       "    .dataframe tbody tr th:only-of-type {\n",
       "        vertical-align: middle;\n",
       "    }\n",
       "\n",
       "    .dataframe tbody tr th {\n",
       "        vertical-align: top;\n",
       "    }\n",
       "\n",
       "    .dataframe thead th {\n",
       "        text-align: right;\n",
       "    }\n",
       "</style>\n",
       "<table border=\"1\" class=\"dataframe\">\n",
       "  <thead>\n",
       "    <tr style=\"text-align: right;\">\n",
       "      <th></th>\n",
       "      <th>hunter_id</th>\n",
       "      <th>hunter_name</th>\n",
       "      <th>hunter_sex</th>\n",
       "      <th>hunter_bthday</th>\n",
       "      <th>hunter_addr</th>\n",
       "      <th>hunter_exp</th>\n",
       "      <th>hunter_soci</th>\n",
       "      <th>hunter_eval</th>\n",
       "      <th>exp_position</th>\n",
       "      <th>exp_min_wage</th>\n",
       "      <th>...</th>\n",
       "      <th>exp_report</th>\n",
       "      <th>resume_keys</th>\n",
       "      <th>job_exps</th>\n",
       "      <th>project_exps</th>\n",
       "      <th>competition_exps</th>\n",
       "      <th>education_exps</th>\n",
       "      <th>training_exps</th>\n",
       "      <th>skill_exps</th>\n",
       "      <th>language_exps</th>\n",
       "      <th>cert_exps</th>\n",
       "    </tr>\n",
       "  </thead>\n",
       "  <tbody>\n",
       "    <tr>\n",
       "      <th>0</th>\n",
       "      <td>1627308899029876736</td>\n",
       "      <td>张先生</td>\n",
       "      <td>0.0</td>\n",
       "      <td>2000-06-29T16:00:00.000Z</td>\n",
       "      <td>河南省郑州市中原区</td>\n",
       "      <td>无经验</td>\n",
       "      <td>PARTY_MEMBER</td>\n",
       "      <td>熟悉VR游戏制作，UE5虚拟引擎，精通C++、Python、matlab等编程语言。七年编程...</td>\n",
       "      <td>['数据分析师', '数据挖掘工程师', '算法工程师']</td>\n",
       "      <td>50000</td>\n",
       "      <td>...</td>\n",
       "      <td>随时到岗</td>\n",
       "      <td>['深度学习', '网页逆向分析']</td>\n",
       "      <td>[]</td>\n",
       "      <td>['Deepfake检测[负责人]:', '闯关游戏开发[负责人]:', 'VR虚拟展厅开发...</td>\n",
       "      <td>['其他[全国二等奖]:第十届泰迪杯数据挖掘挑战赛', '其他[省一等奖]:全国大学生数学建...</td>\n",
       "      <td>[]</td>\n",
       "      <td>[]</td>\n",
       "      <td>['Python[MASTER]', 'C++[MASTER]', 'Matlab[MAST...</td>\n",
       "      <td>['普通话[MASTER]', '英语[MASTER]']</td>\n",
       "      <td>[]</td>\n",
       "    </tr>\n",
       "    <tr>\n",
       "      <th>1</th>\n",
       "      <td>1643560323032154112</td>\n",
       "      <td>王先生</td>\n",
       "      <td>0.0</td>\n",
       "      <td>1990-02-28T16:00:00.000Z</td>\n",
       "      <td>广东省广州市荔湾区</td>\n",
       "      <td>3年工作经验</td>\n",
       "      <td>PARTY_MEMBER</td>\n",
       "      <td>熟练掌握python，Java编程技术，有前端开发经验</td>\n",
       "      <td>['自然语言处理工程师', '数据分析师']</td>\n",
       "      <td>9000</td>\n",
       "      <td>...</td>\n",
       "      <td>随时到岗</td>\n",
       "      <td>['阳光开朗大男孩']</td>\n",
       "      <td>[]</td>\n",
       "      <td>[]</td>\n",
       "      <td>[]</td>\n",
       "      <td>[]</td>\n",
       "      <td>[]</td>\n",
       "      <td>[]</td>\n",
       "      <td>['python,java[SKILLED]']</td>\n",
       "      <td>[]</td>\n",
       "    </tr>\n",
       "    <tr>\n",
       "      <th>2</th>\n",
       "      <td>1643227269948375040</td>\n",
       "      <td>林先生</td>\n",
       "      <td>0.0</td>\n",
       "      <td>2000-09-08T16:00:00.000Z</td>\n",
       "      <td>广东省广州市海珠区</td>\n",
       "      <td>无经验</td>\n",
       "      <td>MASSES</td>\n",
       "      <td>掌握微信小程序前端开发、数据分析、数据挖掘、报告写作等技能，项目经验丰富，动手能力强。</td>\n",
       "      <td>['数据分析师', '数据挖掘工程师']</td>\n",
       "      <td>3000</td>\n",
       "      <td>...</td>\n",
       "      <td>时间待议</td>\n",
       "      <td>['数据分析', '数据挖掘', '网络爬虫']</td>\n",
       "      <td>['华南师范大学网络协会[干事]:']</td>\n",
       "      <td>['基于微信小程序的校园导航[全栈开发]:']</td>\n",
       "      <td>[]</td>\n",
       "      <td>[]</td>\n",
       "      <td>['华南师范大学[数学建模]']</td>\n",
       "      <td>[]</td>\n",
       "      <td>[]</td>\n",
       "      <td>[]</td>\n",
       "    </tr>\n",
       "  </tbody>\n",
       "</table>\n",
       "<p>3 rows × 24 columns</p>\n",
       "</div>"
      ],
      "text/plain": [
       "             hunter_id hunter_name  hunter_sex             hunter_bthday  \\\n",
       "0  1627308899029876736         张先生         0.0  2000-06-29T16:00:00.000Z   \n",
       "1  1643560323032154112         王先生         0.0  1990-02-28T16:00:00.000Z   \n",
       "2  1643227269948375040         林先生         0.0  2000-09-08T16:00:00.000Z   \n",
       "\n",
       "  hunter_addr hunter_exp   hunter_soci  \\\n",
       "0   河南省郑州市中原区        无经验  PARTY_MEMBER   \n",
       "1   广东省广州市荔湾区     3年工作经验  PARTY_MEMBER   \n",
       "2   广东省广州市海珠区        无经验        MASSES   \n",
       "\n",
       "                                         hunter_eval  \\\n",
       "0  熟悉VR游戏制作，UE5虚拟引擎，精通C++、Python、matlab等编程语言。七年编程...   \n",
       "1                        熟练掌握python，Java编程技术，有前端开发经验   \n",
       "2        掌握微信小程序前端开发、数据分析、数据挖掘、报告写作等技能，项目经验丰富，动手能力强。   \n",
       "\n",
       "                    exp_position  exp_min_wage  ...  exp_report  \\\n",
       "0  ['数据分析师', '数据挖掘工程师', '算法工程师']         50000  ...        随时到岗   \n",
       "1         ['自然语言处理工程师', '数据分析师']          9000  ...        随时到岗   \n",
       "2           ['数据分析师', '数据挖掘工程师']          3000  ...        时间待议   \n",
       "\n",
       "                resume_keys             job_exps  \\\n",
       "0        ['深度学习', '网页逆向分析']                   []   \n",
       "1               ['阳光开朗大男孩']                   []   \n",
       "2  ['数据分析', '数据挖掘', '网络爬虫']  ['华南师范大学网络协会[干事]:']   \n",
       "\n",
       "                                        project_exps  \\\n",
       "0  ['Deepfake检测[负责人]:', '闯关游戏开发[负责人]:', 'VR虚拟展厅开发...   \n",
       "1                                                 []   \n",
       "2                            ['基于微信小程序的校园导航[全栈开发]:']   \n",
       "\n",
       "                                    competition_exps education_exps  \\\n",
       "0  ['其他[全国二等奖]:第十届泰迪杯数据挖掘挑战赛', '其他[省一等奖]:全国大学生数学建...             []   \n",
       "1                                                 []             []   \n",
       "2                                                 []             []   \n",
       "\n",
       "      training_exps                                         skill_exps  \\\n",
       "0                []  ['Python[MASTER]', 'C++[MASTER]', 'Matlab[MAST...   \n",
       "1                []                                                 []   \n",
       "2  ['华南师范大学[数学建模]']                                                 []   \n",
       "\n",
       "                   language_exps cert_exps  \n",
       "0  ['普通话[MASTER]', '英语[MASTER]']        []  \n",
       "1       ['python,java[SKILLED]']        []  \n",
       "2                             []        []  \n",
       "\n",
       "[3 rows x 24 columns]"
      ]
     },
     "execution_count": 3,
     "metadata": {},
     "output_type": "execute_result"
    }
   ],
   "source": [
    "frame_data.head(3)"
   ]
  },
  {
   "cell_type": "code",
   "execution_count": 4,
   "metadata": {},
   "outputs": [
    {
     "name": "stdout",
     "output_type": "stream",
     "text": [
      "0.0 1627308899029876736\n",
      "1.0 1641058737659707392\n"
     ]
    }
   ],
   "source": [
    "for hunter_sex in frame_data['hunter_sex'].unique():\n",
    "    if pd.isna(hunter_sex): continue\n",
    "    print(hunter_sex, frame_data[frame_data['hunter_sex'] == hunter_sex].iloc[0, 0])\n",
    "\n",
    "hunter_sex_kind_json = {0: '男', 1: '女'}"
   ]
  },
  {
   "cell_type": "code",
   "execution_count": 5,
   "metadata": {},
   "outputs": [
    {
     "name": "stdout",
     "output_type": "stream",
     "text": [
      "2.0 1627308899029876736\n",
      "0.0 1641058737659707392\n",
      "1.0 1484409030448381952\n"
     ]
    }
   ],
   "source": [
    "for exp_require_kind in frame_data['exp_require_kind'].unique():\n",
    "    if pd.isna(exp_require_kind): continue\n",
    "    print(exp_require_kind, frame_data[frame_data['exp_require_kind'] == exp_require_kind].iloc[0, 0])\n",
    "\n",
    "exp_require_json = {0: '实习', 1: '无', 2: '全职'}"
   ]
  },
  {
   "cell_type": "code",
   "execution_count": 6,
   "metadata": {},
   "outputs": [
    {
     "name": "stdout",
     "output_type": "stream",
     "text": [
      "PARTY_MEMBER 1627308899029876736\n",
      "MASSES 1643227269948375040\n",
      "PROBATIONARY_PARTY_MEMBER 1640319370922164224\n",
      "LEAGUE_MEMBER 1635610357617786880\n"
     ]
    }
   ],
   "source": [
    "for hunter_sociality in frame_data['hunter_soci'].unique():\n",
    "    if pd.isna(hunter_sociality): continue\n",
    "    print(hunter_sociality, frame_data[frame_data['hunter_soci'] == hunter_sociality].iloc[0, 0])\n",
    "\n",
    "require_kind_json = { 'MASSES': '群众', 'LEAGUE_MEMBER': '共青团员', 'PARTY_MEMBER': '党员', 'PROBATIONARY_PARTY_MEMBER': '预备党员'}"
   ]
  },
  {
   "cell_type": "code",
   "execution_count": 7,
   "metadata": {},
   "outputs": [
    {
     "name": "stdout",
     "output_type": "stream",
     "text": [
      "10872 10872\n"
     ]
    }
   ],
   "source": [
    "save_frame = {\"序号\": [], '求职者ID': [], '姓名': [], '性别': [], '年龄': [], '出生地': [], '社会属性': [], '工作经验': [], \n",
    "              '期望岗位': [], '期望薪资': [], '期望类型': [], '期望城市': [], '期望行业': [], '预计到岗': [], '工作经历': [], \n",
    "              '项目经历': [], '竞赛经历': [], '教育经历': [], '培训经历': [], '技能类型': [], '语言类型': [], '证书类型': []}\n",
    "\n",
    "TEST, RECORD, count = False, 5, 0\n",
    "size = frame_data.shape[0]\n",
    "\n",
    "for inx in range(size):\n",
    "    if TEST and inx % RECORD == 0: continue\n",
    "    item = frame_data.iloc[inx, :]\n",
    "    count += 1\n",
    "    save_frame['序号'].append(count)\n",
    "    save_frame['求职者ID'].append('\\t' + str(item['hunter_id']))\n",
    "    save_frame['姓名'].append(item['hunter_name'])\n",
    "    save_frame['性别'].append(hunter_sex_kind_json[item['hunter_sex']] if not pd.isna(item['hunter_sex']) else '')\n",
    "    try:\n",
    "        age = item['hunter_bthday'].replace('-', '/').replace('T', ' ').split(' ')[0]\n",
    "        begin_year = datetime.strptime(age, '%Y/%m/%d').year\n",
    "        end_year = datetime.now().year\n",
    "        age = end_year - begin_year\n",
    "    except:\n",
    "        age = ''\n",
    "    save_frame['年龄'].append(age)\n",
    "    try:\n",
    "        addr = cpca.transform([item['hunter_addr']])\n",
    "        addr = ''.join([addr['省'][0], addr['市'][0]]).replace('市县', '市')\n",
    "    except:\n",
    "        addr = ''\n",
    "    save_frame['出生地'].append(addr)\n",
    "    save_frame['社会属性'].append(require_kind_json[item['hunter_soci']] if not pd.isna(item['hunter_soci']) else '')\n",
    "    try:\n",
    "        work_year = '无' if '无经验' in item['hunter_exp'] else (\n",
    "            item['hunter_exp'].replace('工作经验', '') if '工作经验' in item['hunter_exp'] else item['hunter_exp'])\n",
    "    except:\n",
    "        work_year = ''\n",
    "    save_frame['工作经验'].append(work_year)\n",
    "    # item['exp_position'] = re.sub(r'\\\\', '', item['exp_position']).strip(\"\\\"\")\n",
    "    save_frame['期望岗位'].append(re.sub(r'\\\\', '', item['exp_position']).strip(\"\\\"\"))\n",
    "    save_frame['期望薪资'].append([item['exp_min_wage'], item['exp_max_wage']])\n",
    "    save_frame['期望类型'].append(exp_require_json[item['exp_require_kind']] if not pd.isna(item['exp_require_kind']) else '')\n",
    "    # save_frame['期望城市'].append(item['exp_city'])\n",
    "    exp_city = re.sub(r'\\\\', '', str(item['exp_city'])).strip(\"\\\"\")\n",
    "    try:\n",
    "        exp_city = ''.join(eval(exp_city))\n",
    "    except:\n",
    "        if not isinstance(exp_city, str) or exp_city == 'nan': exp_city = ''\n",
    "    save_frame['期望城市'].append(exp_city)\n",
    "    # save_frame['期望行业'].append(item['exp_industry'])\n",
    "    save_frame['期望行业'].append(re.sub(r'\\\\', '', item['exp_industry']).strip(\"\\\"\"))\n",
    "    save_frame['预计到岗'].append(item['exp_report'].replace('到岗', '') if not pd.isna(item['exp_report']) else '')\n",
    "    save_frame['工作经历'].append([exp.split(':')[0] for exp in eval(item['job_exps'])])\n",
    "    save_frame['项目经历'].append([exp.split(':')[0] for exp in eval(item['project_exps'])])\n",
    "    save_frame['竞赛经历'].append([exp.split(':')[0] for exp in eval(item['competition_exps'])])\n",
    "    save_frame['教育经历'].append([exp.split(':')[0] for exp in eval(item['education_exps'])])\n",
    "    save_frame['培训经历'].append(eval(item['training_exps']))\n",
    "    save_frame['技能类型'].append(eval(item['skill_exps']))\n",
    "    save_frame['语言类型'].append(eval(item['language_exps']))\n",
    "    save_frame['证书类型'].append(eval(item['cert_exps']))\n",
    "\n",
    "print(size, len(save_frame['序号']))\n",
    "# for key, value in save_frame.items():\n",
    "#     print(key, len(value))\n",
    "\n",
    "save_frame = pd.DataFrame(save_frame)\n",
    "save_frame.to_csv(save_csv_path, index=False, encoding=\"GBK\", errors='ignore')"
   ]
  },
  {
   "cell_type": "code",
   "execution_count": null,
   "metadata": {},
   "outputs": [],
   "source": []
  }
 ],
 "metadata": {
  "kernelspec": {
   "display_name": "workspace",
   "language": "python",
   "name": "python3"
  },
  "language_info": {
   "codemirror_mode": {
    "name": "ipython",
    "version": 3
   },
   "file_extension": ".py",
   "mimetype": "text/x-python",
   "name": "python",
   "nbconvert_exporter": "python",
   "pygments_lexer": "ipython3",
   "version": "3.7.16"
  },
  "orig_nbformat": 4,
  "vscode": {
   "interpreter": {
    "hash": "460c7a90d7afaf0a46ca69da768664a2d4cee184414e8a7bf3a7efe3fec06ee9"
   }
  }
 },
 "nbformat": 4,
 "nbformat_minor": 2
}
