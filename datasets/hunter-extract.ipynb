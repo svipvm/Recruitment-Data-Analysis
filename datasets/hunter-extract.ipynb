{
 "cells": [
  {
   "cell_type": "code",
   "execution_count": 1,
   "metadata": {},
   "outputs": [],
   "source": [
    "import pandas as pd\n",
    "import cpca, re\n",
    "from datetime import datetime"
   ]
  },
  {
   "cell_type": "code",
   "execution_count": 2,
   "metadata": {},
   "outputs": [],
   "source": [
    "read_csv_path = './hunter-info.csv'\n",
    "save_csv_path = './result1-2.csv'\n",
    "\n",
    "frame_data = pd.read_csv(read_csv_path, encoding='GBK')"
   ]
  },
  {
   "cell_type": "code",
   "execution_count": 3,
   "metadata": {},
   "outputs": [
    {
     "data": {
      "text/html": [
       "<div>\n",
       "<style scoped>\n",
       "    .dataframe tbody tr th:only-of-type {\n",
       "        vertical-align: middle;\n",
       "    }\n",
       "\n",
       "    .dataframe tbody tr th {\n",
       "        vertical-align: top;\n",
       "    }\n",
       "\n",
       "    .dataframe thead th {\n",
       "        text-align: right;\n",
       "    }\n",
       "</style>\n",
       "<table border=\"1\" class=\"dataframe\">\n",
       "  <thead>\n",
       "    <tr style=\"text-align: right;\">\n",
       "      <th></th>\n",
       "      <th>hunter_id</th>\n",
       "      <th>hunter_name</th>\n",
       "      <th>hunter_sex</th>\n",
       "      <th>hunter_bthday</th>\n",
       "      <th>hunter_addr</th>\n",
       "      <th>hunter_exp</th>\n",
       "      <th>hunter_soci</th>\n",
       "      <th>hunter_eval</th>\n",
       "      <th>exp_position</th>\n",
       "      <th>exp_min_wage</th>\n",
       "      <th>...</th>\n",
       "      <th>exp_report</th>\n",
       "      <th>resume_keys</th>\n",
       "      <th>job_exps</th>\n",
       "      <th>project_exps</th>\n",
       "      <th>competition_exps</th>\n",
       "      <th>education_exps</th>\n",
       "      <th>training_exps</th>\n",
       "      <th>skill_exps</th>\n",
       "      <th>language_exps</th>\n",
       "      <th>cert_exps</th>\n",
       "    </tr>\n",
       "  </thead>\n",
       "  <tbody>\n",
       "    <tr>\n",
       "      <th>0</th>\n",
       "      <td>1649711597649788928</td>\n",
       "      <td>刘女士</td>\n",
       "      <td>1.0</td>\n",
       "      <td>2002-04-16T16:00:00.000Z</td>\n",
       "      <td>湖北省武汉市武昌区</td>\n",
       "      <td>1年工作经验</td>\n",
       "      <td>LEAGUE_MEMBER</td>\n",
       "      <td>统计专业学生，熟悉SPSS软件、pyhton、mysql软件的基本操作；曾经在中国铁塔公司贵...</td>\n",
       "      <td>['数据分析师', '其他']</td>\n",
       "      <td>3000</td>\n",
       "      <td>...</td>\n",
       "      <td>时间待议</td>\n",
       "      <td>['统计专业', 'spss', 'mysql', 'python']</td>\n",
       "      <td>['中国铁塔公司贵港分公司[档案部实习生]:负责档案数据的录入与整理']</td>\n",
       "      <td>[]</td>\n",
       "      <td>[]</td>\n",
       "      <td>['湖北大学[本科]:应用统计学']</td>\n",
       "      <td>[]</td>\n",
       "      <td>['python[SKILLED]', 'mysql[SKILLED]', 'R语言[SKI...</td>\n",
       "      <td>[]</td>\n",
       "      <td>[]</td>\n",
       "    </tr>\n",
       "    <tr>\n",
       "      <th>1</th>\n",
       "      <td>1649221278801985536</td>\n",
       "      <td>王先生</td>\n",
       "      <td>0.0</td>\n",
       "      <td>1999-11-16T16:00:00.000Z</td>\n",
       "      <td>广东省广州市白云区</td>\n",
       "      <td>无经验</td>\n",
       "      <td>LEAGUE_MEMBER</td>\n",
       "      <td>1.曾经在学校社团里面，当人副部长，在社团进行大型对内外活动的时候，组织进行游戏，规划每个摊...</td>\n",
       "      <td>['数据分析师', '数据挖掘工程师', '其他']</td>\n",
       "      <td>5000</td>\n",
       "      <td>...</td>\n",
       "      <td>随时到岗</td>\n",
       "      <td>[]</td>\n",
       "      <td>[]</td>\n",
       "      <td>[]</td>\n",
       "      <td>[]</td>\n",
       "      <td>[]</td>\n",
       "      <td>[]</td>\n",
       "      <td>[]</td>\n",
       "      <td>[]</td>\n",
       "      <td>[]</td>\n",
       "    </tr>\n",
       "    <tr>\n",
       "      <th>2</th>\n",
       "      <td>1648221000086716416</td>\n",
       "      <td>特先生</td>\n",
       "      <td>0.0</td>\n",
       "      <td>2023-04-03T16:00:00.000Z</td>\n",
       "      <td>北京市北京市西城区</td>\n",
       "      <td>1年工作经验</td>\n",
       "      <td>LEAGUE_MEMBER</td>\n",
       "      <td>awdaw</td>\n",
       "      <td>['数据挖掘工程师', '图像处理工程师']</td>\n",
       "      <td>4000</td>\n",
       "      <td>...</td>\n",
       "      <td>1周后到岗</td>\n",
       "      <td>['潮男', '靓仔']</td>\n",
       "      <td>['中国石油大[教授]:dawdawdasxZxxerg']</td>\n",
       "      <td>['dawda[daw]:daxzxwefr']</td>\n",
       "      <td>['泰迪杯[特等奖]:第七届泰迪杯数据挖掘挑战赛']</td>\n",
       "      <td>['中国石油大学[硕士]:daw']</td>\n",
       "      <td>['达娃大[机器学习]']</td>\n",
       "      <td>['daw[GOOD]', 'dawcdfgfrg[SKILLED]']</td>\n",
       "      <td>['c[COMMONLY]']</td>\n",
       "      <td>['15890344031[泰迪科技实习证明]']</td>\n",
       "    </tr>\n",
       "  </tbody>\n",
       "</table>\n",
       "<p>3 rows × 24 columns</p>\n",
       "</div>"
      ],
      "text/plain": [
       "             hunter_id hunter_name  hunter_sex             hunter_bthday   \n",
       "0  1649711597649788928         刘女士         1.0  2002-04-16T16:00:00.000Z  \\\n",
       "1  1649221278801985536         王先生         0.0  1999-11-16T16:00:00.000Z   \n",
       "2  1648221000086716416         特先生         0.0  2023-04-03T16:00:00.000Z   \n",
       "\n",
       "  hunter_addr hunter_exp    hunter_soci   \n",
       "0   湖北省武汉市武昌区     1年工作经验  LEAGUE_MEMBER  \\\n",
       "1   广东省广州市白云区        无经验  LEAGUE_MEMBER   \n",
       "2   北京市北京市西城区     1年工作经验  LEAGUE_MEMBER   \n",
       "\n",
       "                                         hunter_eval   \n",
       "0  统计专业学生，熟悉SPSS软件、pyhton、mysql软件的基本操作；曾经在中国铁塔公司贵...  \\\n",
       "1  1.曾经在学校社团里面，当人副部长，在社团进行大型对内外活动的时候，组织进行游戏，规划每个摊...   \n",
       "2                                              awdaw   \n",
       "\n",
       "                 exp_position  exp_min_wage  ...  exp_report   \n",
       "0             ['数据分析师', '其他']          3000  ...        时间待议  \\\n",
       "1  ['数据分析师', '数据挖掘工程师', '其他']          5000  ...        随时到岗   \n",
       "2      ['数据挖掘工程师', '图像处理工程师']          4000  ...       1周后到岗   \n",
       "\n",
       "                           resume_keys                              job_exps   \n",
       "0  ['统计专业', 'spss', 'mysql', 'python']  ['中国铁塔公司贵港分公司[档案部实习生]:负责档案数据的录入与整理']  \\\n",
       "1                                   []                                    []   \n",
       "2                         ['潮男', '靓仔']        ['中国石油大[教授]:dawdawdasxZxxerg']   \n",
       "\n",
       "               project_exps            competition_exps      education_exps   \n",
       "0                        []                          []  ['湖北大学[本科]:应用统计学']  \\\n",
       "1                        []                          []                  []   \n",
       "2  ['dawda[daw]:daxzxwefr']  ['泰迪杯[特等奖]:第七届泰迪杯数据挖掘挑战赛']  ['中国石油大学[硕士]:daw']   \n",
       "\n",
       "   training_exps                                         skill_exps   \n",
       "0             []  ['python[SKILLED]', 'mysql[SKILLED]', 'R语言[SKI...  \\\n",
       "1             []                                                 []   \n",
       "2  ['达娃大[机器学习]']               ['daw[GOOD]', 'dawcdfgfrg[SKILLED]']   \n",
       "\n",
       "     language_exps                  cert_exps  \n",
       "0               []                         []  \n",
       "1               []                         []  \n",
       "2  ['c[COMMONLY]']  ['15890344031[泰迪科技实习证明]']  \n",
       "\n",
       "[3 rows x 24 columns]"
      ]
     },
     "execution_count": 3,
     "metadata": {},
     "output_type": "execute_result"
    }
   ],
   "source": [
    "frame_data.head(3)"
   ]
  },
  {
   "cell_type": "code",
   "execution_count": 4,
   "metadata": {},
   "outputs": [
    {
     "name": "stdout",
     "output_type": "stream",
     "text": [
      "1.0 1649711597649788928\n",
      "0.0 1649221278801985536\n"
     ]
    }
   ],
   "source": [
    "for hunter_sex in frame_data['hunter_sex'].unique():\n",
    "    if pd.isna(hunter_sex): continue\n",
    "    print(hunter_sex, frame_data[frame_data['hunter_sex'] == hunter_sex].iloc[0, 0])\n",
    "\n",
    "hunter_sex_kind_json = {0: '男', 1: '女'}"
   ]
  },
  {
   "cell_type": "code",
   "execution_count": 5,
   "metadata": {},
   "outputs": [
    {
     "name": "stdout",
     "output_type": "stream",
     "text": [
      "0.0 1649711597649788928\n",
      "2.0 1649221278801985536\n",
      "1.0 1484409030448381952\n"
     ]
    }
   ],
   "source": [
    "for exp_require_kind in frame_data['exp_require_kind'].unique():\n",
    "    if pd.isna(exp_require_kind): continue\n",
    "    print(exp_require_kind, frame_data[frame_data['exp_require_kind'] == exp_require_kind].iloc[0, 0])\n",
    "\n",
    "exp_require_json = {0: '实习', 1: '无', 2: '全职'}"
   ]
  },
  {
   "cell_type": "code",
   "execution_count": 6,
   "metadata": {},
   "outputs": [
    {
     "name": "stdout",
     "output_type": "stream",
     "text": [
      "LEAGUE_MEMBER 1649711597649788928\n",
      "OTHER_PARTY 1648848763151843328\n",
      "MASSES 1648774046462115840\n",
      "PARTY_MEMBER 1648779874627878912\n",
      "PROBATIONARY_PARTY_MEMBER 1648621300526219264\n"
     ]
    }
   ],
   "source": [
    "for hunter_sociality in frame_data['hunter_soci'].unique():\n",
    "    if pd.isna(hunter_sociality): continue\n",
    "    print(hunter_sociality, frame_data[frame_data['hunter_soci'] == hunter_sociality].iloc[0, 0])\n",
    "\n",
    "require_kind_json = {'MASSES': '群众', 'LEAGUE_MEMBER': '共青团员', \n",
    "                     'PARTY_MEMBER': '党员', 'PROBATIONARY_PARTY_MEMBER': \n",
    "                     '预备党员', 'OTHER_PARTY': '其他党派'}"
   ]
  },
  {
   "cell_type": "code",
   "execution_count": 7,
   "metadata": {},
   "outputs": [
    {
     "name": "stdout",
     "output_type": "stream",
     "text": [
      "10902 10902\n"
     ]
    }
   ],
   "source": [
    "save_frame = {\"序号\": [], '求职者ID': [], '姓名': [], '性别': [], '年龄': [], '出生地': [], '政治面貌': [], '工作经验': [], \n",
    "              '期望岗位': [], '期望薪资': [], '期望类型': [], '期望城市': [], '期望行业': [], '工作经历': [], \n",
    "              '项目经历': [], '竞赛经历': [], '教育经历': [], '培训经历': [], '技能类型': [], '语言类型': [], '证书类型': []}\n",
    "\n",
    "TEST, RECORD, count = False, 5, 0\n",
    "size = frame_data.shape[0]\n",
    "\n",
    "for inx in range(size):\n",
    "    if TEST and inx % RECORD == 0: continue\n",
    "    item = frame_data.iloc[inx, :]\n",
    "    count += 1\n",
    "    save_frame['序号'].append(count)\n",
    "    save_frame['求职者ID'].append('\\t' + str(item['hunter_id']))\n",
    "    save_frame['姓名'].append(item['hunter_name'])\n",
    "    save_frame['性别'].append(hunter_sex_kind_json[item['hunter_sex']] if not pd.isna(item['hunter_sex']) else '')\n",
    "    try:\n",
    "        age = item['hunter_bthday'].replace('-', '/').replace('T', ' ').split(' ')[0]\n",
    "        begin_year = datetime.strptime(age, '%Y/%m/%d').year\n",
    "        end_year = datetime.now().year\n",
    "        age = end_year - begin_year\n",
    "    except:\n",
    "        age = ''\n",
    "    save_frame['年龄'].append(age)\n",
    "    try:\n",
    "        addr = cpca.transform([item['hunter_addr']])\n",
    "        addr = ''.join([addr['省'][0], addr['市'][0]]).replace('市县', '市')\n",
    "    except:\n",
    "        addr = ''\n",
    "    save_frame['出生地'].append(addr)\n",
    "    save_frame['政治面貌'].append(require_kind_json[item['hunter_soci']] if not pd.isna(item['hunter_soci']) else '')\n",
    "    try:\n",
    "        work_year = '无' if '无经验' in item['hunter_exp'] else (\n",
    "            item['hunter_exp'].replace('工作经验', '') if '工作经验' in item['hunter_exp'] else item['hunter_exp'])\n",
    "    except:\n",
    "        work_year = ''\n",
    "    save_frame['工作经验'].append(work_year)\n",
    "    # item['exp_position'] = re.sub(r'\\\\', '', item['exp_position']).strip(\"\\\"\")\n",
    "    save_frame['期望岗位'].append(re.sub(r'\\\\', '', item['exp_position']).strip(\"\\\"\"))\n",
    "    save_frame['期望薪资'].append([item['exp_min_wage'], item['exp_max_wage']])\n",
    "    save_frame['期望类型'].append(exp_require_json[item['exp_require_kind']] if not pd.isna(item['exp_require_kind']) else '')\n",
    "    # save_frame['期望城市'].append(item['exp_city'])\n",
    "    exp_city = re.sub(r'\\\\', '', str(item['exp_city'])).strip(\"\\\"\")\n",
    "    try:\n",
    "        exp_city = ''.join(eval(exp_city))\n",
    "    except:\n",
    "        if not isinstance(exp_city, str) or exp_city == 'nan': exp_city = ''\n",
    "    save_frame['期望城市'].append(exp_city)\n",
    "    # save_frame['期望行业'].append(item['exp_industry'])\n",
    "    save_frame['期望行业'].append(re.sub(r'\\\\', '', item['exp_industry']).strip(\"\\\"\"))\n",
    "    # save_frame['预计到岗'].append(item['exp_report'].replace('到岗', '') if not pd.isna(item['exp_report']) else '')\n",
    "    save_frame['工作经历'].append([exp.split(':')[0] for exp in eval(item['job_exps'])])\n",
    "    save_frame['项目经历'].append([exp.split(':')[0] for exp in eval(item['project_exps'])])\n",
    "    save_frame['竞赛经历'].append([exp.split(':')[0] for exp in eval(item['competition_exps'])])\n",
    "    save_frame['教育经历'].append([exp.split(':')[0] for exp in eval(item['education_exps'])])\n",
    "    save_frame['培训经历'].append(eval(item['training_exps']))\n",
    "    save_frame['技能类型'].append(eval(item['skill_exps']))\n",
    "    save_frame['语言类型'].append(eval(item['language_exps']))\n",
    "    save_frame['证书类型'].append(eval(item['cert_exps']))\n",
    "\n",
    "print(size, len(save_frame['序号']))\n",
    "# for key, value in save_frame.items():\n",
    "#     print(key, len(value))\n",
    "\n",
    "save_frame = pd.DataFrame(save_frame)\n",
    "save_frame.to_csv(save_csv_path, index=False, encoding=\"GBK\", errors='ignore')"
   ]
  },
  {
   "cell_type": "code",
   "execution_count": null,
   "metadata": {},
   "outputs": [],
   "source": []
  }
 ],
 "metadata": {
  "kernelspec": {
   "display_name": "workspace",
   "language": "python",
   "name": "python3"
  },
  "language_info": {
   "codemirror_mode": {
    "name": "ipython",
    "version": 3
   },
   "file_extension": ".py",
   "mimetype": "text/x-python",
   "name": "python",
   "nbconvert_exporter": "python",
   "pygments_lexer": "ipython3",
   "version": "3.9.16"
  },
  "orig_nbformat": 4,
  "vscode": {
   "interpreter": {
    "hash": "460c7a90d7afaf0a46ca69da768664a2d4cee184414e8a7bf3a7efe3fec06ee9"
   }
  }
 },
 "nbformat": 4,
 "nbformat_minor": 2
}
